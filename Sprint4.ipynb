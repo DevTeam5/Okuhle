{
 "cells": [
  {
   "cell_type": "code",
   "execution_count": 1,
   "metadata": {},
   "outputs": [
    {
     "name": "stdout",
     "output_type": "stream",
     "text": [
      "{'_id': ObjectId('5e57ba9766b68b29fc6db8a7'), 'Type': 'Chips', 'Products': 'Doritos', 'Prices': '15', 'Quantity': '20'}\n",
      "{'_id': ObjectId('5e57ba9766b68b29fc6db8a8'), 'Type': '', 'Products': 'Lays', 'Prices': '12', 'Quantity': '15'}\n",
      "{'_id': ObjectId('5e57ba9766b68b29fc6db8a9'), 'Type': '', 'Products': 'NikNaks', 'Prices': '5', 'Quantity': '30'}\n",
      "{'_id': ObjectId('5e57ba9766b68b29fc6db8aa'), 'Type': '', 'Products': 'Simba', 'Prices': '18', 'Quantity': '18'}\n",
      "{'_id': ObjectId('5e57ba9766b68b29fc6db8ab'), 'Type': '', 'Products': '', 'Prices': '', 'Quantity': ''}\n",
      "{'_id': ObjectId('5e57ba9766b68b29fc6db8ac'), 'Type': 'Cooldrink', 'Products': 'Fanta', 'Prices': '11', 'Quantity': '10'}\n",
      "{'_id': ObjectId('5e57ba9766b68b29fc6db8ad'), 'Type': '', 'Products': 'Sprite', 'Prices': '14', 'Quantity': '10'}\n",
      "{'_id': ObjectId('5e57ba9766b68b29fc6db8ae'), 'Type': '', 'Products': 'Jive', 'Prices': '10', 'Quantity': '20'}\n",
      "{'_id': ObjectId('5e57ba9766b68b29fc6db8af'), 'Type': '', 'Products': 'Score', 'Prices': '10', 'Quantity': '15'}\n",
      "{'_id': ObjectId('5e57ba9766b68b29fc6db8b0'), 'Type': '', 'Products': '', 'Prices': '', 'Quantity': ''}\n",
      "{'_id': ObjectId('5e57ba9766b68b29fc6db8b1'), 'Type': 'Chocolate', 'Products': ' Ps', 'Prices': '8', 'Quantity': '20'}\n",
      "{'_id': ObjectId('5e57ba9766b68b29fc6db8b2'), 'Type': '', 'Products': 'KitKat', 'Prices': '10', 'Quantity': '15'}\n",
      "{'_id': ObjectId('5e57ba9766b68b29fc6db8b3'), 'Type': '', 'Products': 'Bar-one', 'Prices': '13', 'Quantity': '10'}\n",
      "{'_id': ObjectId('5e57ba9766b68b29fc6db8b4'), 'Type': '', 'Products': 'Tex', 'Prices': '7', 'Quantity': '25'}\n",
      "{'_id': ObjectId('5e57ba9766b68b29fc6db8b5'), 'Type': '', 'Products': '', 'Prices': '', 'Quantity': ''}\n",
      "{'_id': ObjectId('5e57ba9766b68b29fc6db8b6'), 'Type': 'Pies', 'Products': 'Chicken', 'Prices': '15', 'Quantity': '13'}\n",
      "{'_id': ObjectId('5e57ba9766b68b29fc6db8b7'), 'Type': '', 'Products': 'Burger', 'Prices': '20', 'Quantity': '10'}\n",
      "{'_id': ObjectId('5e57ba9766b68b29fc6db8b8'), 'Type': '', 'Products': 'steak', 'Prices': '18', 'Quantity': '20'}\n",
      "{'_id': ObjectId('5e57ba9766b68b29fc6db8b9'), 'Type': '', 'Products': 'pepper', 'Prices': '15', 'Quantity': '10'}\n",
      "{'_id': ObjectId('5e57ba9766b68b29fc6db8ba'), 'Type': '', 'Products': '', 'Prices': '', 'Quantity': ''}\n",
      "{'_id': ObjectId('5e57ba9766b68b29fc6db8bb'), 'Type': 'Fruit', 'Products': 'Guava', 'Prices': '10', 'Quantity': '20'}\n",
      "{'_id': ObjectId('5e57ba9766b68b29fc6db8bc'), 'Type': '', 'Products': 'Peach', 'Prices': '12', 'Quantity': '15'}\n",
      "{'_id': ObjectId('5e57ba9766b68b29fc6db8bd'), 'Type': '', 'Products': 'Pear', 'Prices': '8', 'Quantity': '30'}\n",
      "{'_id': ObjectId('5e57ba9766b68b29fc6db8be'), 'Type': '', 'Products': 'Banana', 'Prices': '15', 'Quantity': '10'}\n",
      "{'_id': ObjectId('5e57ba9766b68b29fc6db8bf'), 'Type': '', 'Products': '', 'Prices': '', 'Quantity': ''}\n",
      "{'_id': ObjectId('5e57ba9766b68b29fc6db8c0'), 'Type': 'Cupcakes', 'Products': 'Vanilla', 'Prices': '20', 'Quantity': '20'}\n",
      "{'_id': ObjectId('5e57ba9766b68b29fc6db8c1'), 'Type': '', 'Products': 'Chocmint', 'Prices': '17', 'Quantity': '20'}\n",
      "{'_id': ObjectId('5e57ba9766b68b29fc6db8c2'), 'Type': '', 'Products': 'Browny', 'Prices': '22', 'Quantity': '15'}\n",
      "{'_id': ObjectId('5e57ba9766b68b29fc6db8c3'), 'Type': '', 'Products': 'Chocolate', 'Prices': '20', 'Quantity': '10'}\n",
      "{'_id': ObjectId('5e57ba9766b68b29fc6db8c4'), 'Type': '', 'Products': '', 'Prices': '', 'Quantity': ''}\n",
      "{'_id': ObjectId('5e57ba9766b68b29fc6db8c5'), 'Type': 'Veggies', 'Products': 'Potatoes', 'Prices': '25', 'Quantity': '10'}\n",
      "{'_id': ObjectId('5e57ba9766b68b29fc6db8c6'), 'Type': '', 'Products': 'Spinach', 'Prices': '15', 'Quantity': '10'}\n",
      "{'_id': ObjectId('5e57ba9766b68b29fc6db8c7'), 'Type': '', 'Products': 'Onion', 'Prices': '10', 'Quantity': '10'}\n",
      "{'_id': ObjectId('5e57ba9766b68b29fc6db8c8'), 'Type': '', 'Products': 'Butternut', 'Prices': '12', 'Quantity': '10'}\n",
      "{'_id': ObjectId('5e57ba9766b68b29fc6db8c9'), 'Type': '', 'Products': None, 'Prices': None, 'Quantity': None}\n"
     ]
    }
   ],
   "source": [
    "import json\n",
    "import pymongo\n",
    "import pandas as pd\n",
    "myclient = pymongo.MongoClient(\"mongodb://localhost:27017/\")\n",
    "mydb = myclient[\"Data_Tracker\"]\n",
    "mycol = mydb[\"sprint\"]\n",
    "\n",
    "for x in mycol.find():\n",
    "    print(x)\n"
   ]
  },
  {
   "cell_type": "code",
   "execution_count": 2,
   "metadata": {
    "scrolled": true
   },
   "outputs": [
    {
     "name": "stdout",
     "output_type": "stream",
     "text": [
      "_id\n",
      "Type\n",
      "Products\n",
      "Prices\n",
      "Quantity\n"
     ]
    }
   ],
   "source": [
    "import json\n",
    "import pymongo\n",
    "import pandas as pd\n",
    "myclient = pymongo.MongoClient(\"mongodb://localhost:27017/\")\n",
    "mydb = myclient[\"Data_Tracker\"]\n",
    "mycol = mydb[\"sprint\"]\n",
    "\n",
    "for x in mycol.find_one():\n",
    "    print(x)\n"
   ]
  },
  {
   "cell_type": "code",
   "execution_count": 3,
   "metadata": {},
   "outputs": [],
   "source": [
    "import pymongo\n",
    "myclient = pymongo.MongoClient(\"mongodb://localhost:27017/\")\n",
    "mydb = myclient[\"Data_Tracker\"]\n",
    "mycol = mydb[\"TOP3\"]"
   ]
  },
  {
   "cell_type": "code",
   "execution_count": null,
   "metadata": {},
   "outputs": [],
   "source": [
    "import pymongo\n",
    "\n",
    "myclient = pymongo.MongoClient(\"mongodb://localhost:27017/\")   \n",
    "\n",
    "mydb = myclient[\"Data_Tracker\"]                       \n",
    "\n",
    "mycol = mydb[\"TOP3\"]                           \n",
    "\n",
    "mydict = {'_id': ('5e57ba9766b68b29fc6db8a7'), 'Type': 'Chips', 'Products': 'Doritos', 'Prices': '15', 'Quantity': '20'}, {'_id':('5e57ba9766b68b29fc6db8c5'), 'Type': 'Veggies', 'Products': 'Potatoes', 'Prices': '25', 'Quantity': '10'},{'_id': ('5e57ba9766b68b29fc6db8c0'), 'Type': 'Cupcakes', 'Products': 'Vanilla', 'Prices': '20', 'Quantity': '20'} \n",
    "x = mycol.insert_one(mydict)"
   ]
  },
  {
   "cell_type": "code",
   "execution_count": null,
   "metadata": {},
   "outputs": [],
   "source": [
    "import pymongo \n",
    "\n",
    "myclient = pymongo.MongoClient(\"mongodb://localhost:27017/\")\n",
    "\n",
    "mydb = myclient[\"mydatabase\"]\n",
    "\n",
    "mycol = mydb[\"customers\"] \n",
    "\n",
    "mylist = [\n",
    "\n",
    " {'_id': ObjectId('5e57ba9766b68b29fc6db8a7'), 'Type': 'Chips', 'Products': 'Doritos', 'Prices': '15', 'Quantity': '20'},\n",
    "{'_id': ObjectId('5e57ba9766b68b29fc6db8a8'), 'Type': '', 'Products': 'Lays', 'Prices': '12', 'Quantity': '15'},\n",
    "{'_id': ObjectId('5e57ba9766b68b29fc6db8a9'), 'Type': '', 'Products': 'NikNaks', 'Prices': '5', 'Quantity': '30'},\n",
    "{'_id': ObjectId('5e57ba9766b68b29fc6db8aa'), 'Type': '', 'Products': 'Simba', 'Prices': '18', 'Quantity': '18'},\n",
    "{'_id': ObjectId('5e57ba9766b68b29fc6db8ab'), 'Type': '', 'Products': '', 'Prices': '', 'Quantity': ''},\n",
    "{'_id': ObjectId('5e57ba9766b68b29fc6db8ac'), 'Type': 'Cooldrink', 'Products': 'Fanta', 'Prices': '11', 'Quantity': '10'},\n",
    "{'_id': ObjectId('5e57ba9766b68b29fc6db8ad'), 'Type': '', 'Products': 'Sprite', 'Prices': '14', 'Quantity': '10'},\n",
    "{'_id': ObjectId('5e57ba9766b68b29fc6db8ae'), 'Type': '', 'Products': 'Jive', 'Prices': '10', 'Quantity': '20'},\n",
    "{'_id': ObjectId('5e57ba9766b68b29fc6db8af'), 'Type': '', 'Products': 'Score', 'Prices': '10', 'Quantity': '15'},\n",
    "{'_id': ObjectId('5e57ba9766b68b29fc6db8b0'), 'Type': '', 'Products': '', 'Prices': '', 'Quantity': ''},\n",
    "{'_id': ObjectId('5e57ba9766b68b29fc6db8b1'), 'Type': 'Chocolate', 'Products': ' Ps', 'Prices': '8', 'Quantity': '20'},\n",
    "{'_id': ObjectId('5e57ba9766b68b29fc6db8b2'), 'Type': '', 'Products': 'KitKat', 'Prices': '10', 'Quantity': '15'},\n",
    "{'_id': ObjectId('5e57ba9766b68b29fc6db8b3'), 'Type': '', 'Products': 'Bar-one', 'Prices': '13', 'Quantity': '10'},\n",
    "{'_id': ObjectId('5e57ba9766b68b29fc6db8b4'), 'Type': '', 'Products': 'Tex', 'Prices': '7', 'Quantity': '25'},\n",
    "{'_id': ObjectId('5e57ba9766b68b29fc6db8b5'), 'Type': '', 'Products': '', 'Prices': '', 'Quantity': ''},\n",
    "{'_id': ObjectId('5e57ba9766b68b29fc6db8b6'), 'Type': 'Pies', 'Products': 'Chicken', 'Prices': '15', 'Quantity': '13'},\n",
    "{'_id': ObjectId('5e57ba9766b68b29fc6db8b7'), 'Type': '', 'Products': 'Burger', 'Prices': '20', 'Quantity': '10'},\n",
    "{'_id': ObjectId('5e57ba9766b68b29fc6db8b8'), 'Type': '', 'Products': 'steak', 'Prices': '18', 'Quantity': '20'},\n",
    "{'_id': ObjectId('5e57ba9766b68b29fc6db8b9'), 'Type': '', 'Products': 'pepper', 'Prices': '15', 'Quantity': '10'},\n",
    "{'_id': ObjectId('5e57ba9766b68b29fc6db8ba'), 'Type': '', 'Products': '', 'Prices': '', 'Quantity': ''},\n",
    "{'_id': ObjectId('5e57ba9766b68b29fc6db8bb'), 'Type': 'Fruit', 'Products': 'Guava', 'Prices': '10', 'Quantity': '20'},\n",
    "{'_id': ObjectId('5e57ba9766b68b29fc6db8bc'), 'Type': '', 'Products': 'Peach', 'Prices': '12', 'Quantity': '15'},\n",
    "{'_id': ObjectId('5e57ba9766b68b29fc6db8bd'), 'Type': '', 'Products': 'Pear', 'Prices': '8', 'Quantity': '30'},\n",
    "{'_id': ObjectId('5e57ba9766b68b29fc6db8be'), 'Type': '', 'Products': 'Banana', 'Prices': '15', 'Quantity': '10'},\n",
    "{'_id': ObjectId('5e57ba9766b68b29fc6db8bf'), 'Type': '', 'Products': '', 'Prices': '', 'Quantity': ''},\n",
    "\n",
    "]\n",
    "\n",
    "x = mycol"
   ]
  },
  {
   "cell_type": "code",
   "execution_count": null,
   "metadata": {},
   "outputs": [],
   "source": [
    "import pymongo\n",
    "myclient = pymongo.MongoClient(\"mongodb://localhost:27017\")\n",
    "mydb = myclient[\"Data_Tracker\"]\n",
    "mycol = mydb[\"TOP3\"]\n",
    "\n",
    "mydoc = mycol.find().sort(\"name\", -1)\n",
    "\n",
    "for x in mydoc:\n",
    "    print(x)"
   ]
  },
  {
   "cell_type": "code",
   "execution_count": null,
   "metadata": {},
   "outputs": [],
   "source": [
    "import pymongo\n",
    "myclient = pymongo.MongoClient(\"mongodb://localhost:27017\")\n",
    "mydb = myclient[\"Data_Tracker\"]\n",
    "mycol = mydb[\"TOP3\"]\n",
    "\n",
    "myquery = {\"address\": {\"$regex\": \"^S\"}}\n",
    "\n",
    "x = mycol.delete_many(myquery)\n",
    "\n",
    "print(x.deleted_count, \"documents deleted\")"
   ]
  },
  {
   "cell_type": "code",
   "execution_count": null,
   "metadata": {},
   "outputs": [],
   "source": [
    "import pymongo\n",
    "myclient = pymongo.MongoClient(\"mongodb://localhost:27017\")\n",
    "mydb = myclient[\"mydatabase\"]\n",
    "mycol = mydb[\"customers\"]\n",
    "\n",
    "myquery= {\"address\": \"Valley 345\"}\n",
    "newvalues= {\"$set\": {\"address\": \"Canyon 123\"}}\n",
    "\n",
    "mycol.update_one(myquery, newvalues)\n",
    "\n",
    "#print \"customer\" after the update\n",
    "for x in mycol.find():\n",
    "    print(x)"
   ]
  },
  {
   "cell_type": "code",
   "execution_count": null,
   "metadata": {},
   "outputs": [],
   "source": []
  }
 ],
 "metadata": {
  "kernelspec": {
   "display_name": "Python 3",
   "language": "python",
   "name": "python3"
  },
  "language_info": {
   "codemirror_mode": {
    "name": "ipython",
    "version": 3
   },
   "file_extension": ".py",
   "mimetype": "text/x-python",
   "name": "python",
   "nbconvert_exporter": "python",
   "pygments_lexer": "ipython3",
   "version": "3.7.4"
  }
 },
 "nbformat": 4,
 "nbformat_minor": 2
}
